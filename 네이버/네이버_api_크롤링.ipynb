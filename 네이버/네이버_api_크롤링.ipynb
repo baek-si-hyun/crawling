{
 "cells": [
  {
   "cell_type": "code",
   "execution_count": 1,
   "metadata": {},
   "outputs": [
    {
     "name": "stdout",
     "output_type": "stream",
     "text": [
      "HTTP Error 401: Unauthorized\n",
      "[2024-09-30 13:50:10.133195] Error for URL : https://openapi.naver.com/v1/search/news.json?query=\"%ED%86%A0%ED%81%B0%EC%A6%9D%EA%B6%8C\"&start=1&display=100\n"
     ]
    },
    {
     "ename": "TypeError",
     "evalue": "'NoneType' object is not subscriptable",
     "output_type": "error",
     "traceback": [
      "\u001b[0;31m---------------------------------------------------------------------------\u001b[0m",
      "\u001b[0;31mTypeError\u001b[0m                                 Traceback (most recent call last)",
      "Cell \u001b[0;32mIn[1], line 79\u001b[0m\n\u001b[1;32m     76\u001b[0m     \u001b[38;5;28mprint\u001b[39m(\u001b[38;5;124m'\u001b[39m\u001b[38;5;132;01m%s\u001b[39;00m\u001b[38;5;124m_naver_\u001b[39m\u001b[38;5;132;01m%s\u001b[39;00m\u001b[38;5;124m.json SAVED\u001b[39m\u001b[38;5;124m'\u001b[39m \u001b[38;5;241m%\u001b[39m (srcText, node))\n\u001b[1;32m     78\u001b[0m \u001b[38;5;28;01mif\u001b[39;00m \u001b[38;5;18m__name__\u001b[39m \u001b[38;5;241m==\u001b[39m \u001b[38;5;124m'\u001b[39m\u001b[38;5;124m__main__\u001b[39m\u001b[38;5;124m'\u001b[39m:\n\u001b[0;32m---> 79\u001b[0m     \u001b[43mmain\u001b[49m\u001b[43m(\u001b[49m\u001b[43m)\u001b[49m                  \n",
      "Cell \u001b[0;32mIn[1], line 58\u001b[0m, in \u001b[0;36mmain\u001b[0;34m()\u001b[0m\n\u001b[1;32m     55\u001b[0m jsonResult \u001b[38;5;241m=\u001b[39m []\n\u001b[1;32m     57\u001b[0m jsonResponse \u001b[38;5;241m=\u001b[39m getNaverSearch(node, srcText, \u001b[38;5;241m1\u001b[39m, \u001b[38;5;241m100\u001b[39m)\n\u001b[0;32m---> 58\u001b[0m total \u001b[38;5;241m=\u001b[39m \u001b[43mjsonResponse\u001b[49m\u001b[43m[\u001b[49m\u001b[38;5;124;43m'\u001b[39;49m\u001b[38;5;124;43mtotal\u001b[39;49m\u001b[38;5;124;43m'\u001b[39;49m\u001b[43m]\u001b[49m\n\u001b[1;32m     60\u001b[0m \u001b[38;5;28;01mwhile\u001b[39;00m((jsonResponse \u001b[38;5;241m!=\u001b[39m \u001b[38;5;28;01mNone\u001b[39;00m) \u001b[38;5;129;01mand\u001b[39;00m (jsonResponse[\u001b[38;5;124m'\u001b[39m\u001b[38;5;124mdisplay\u001b[39m\u001b[38;5;124m'\u001b[39m] \u001b[38;5;241m!=\u001b[39m \u001b[38;5;241m0\u001b[39m)):\n\u001b[1;32m     61\u001b[0m     \u001b[38;5;28;01mfor\u001b[39;00m post \u001b[38;5;129;01min\u001b[39;00m jsonResponse[\u001b[38;5;124m'\u001b[39m\u001b[38;5;124mitems\u001b[39m\u001b[38;5;124m'\u001b[39m]:\n",
      "\u001b[0;31mTypeError\u001b[0m: 'NoneType' object is not subscriptable"
     ]
    }
   ],
   "source": [
    "import os\n",
    "import sys\n",
    "import urllib.request\n",
    "import datetime\n",
    "import time\n",
    "import json\n",
    "\n",
    "client_id = ''\n",
    "client_secret = ''\n",
    "\n",
    "def getRequestUrl(url):\n",
    "    req = urllib.request.Request(url)\n",
    "    req.add_header(\"X-Naver-Client-Id\", client_id)\n",
    "    req.add_header(\"X-Naver-Client-Secret\", client_secret)\n",
    "    \n",
    "    try:\n",
    "        response = urllib.request.urlopen(req)\n",
    "        if response.getcode() == 200:\n",
    "            print(\"[%s]Url Request Success\" % datetime.datetime.now())\n",
    "            return response.read().decode('utf-8')\n",
    "    except Exception as e :\n",
    "        print(e)\n",
    "        print(\"[%s] Error for URL : %s\" % (datetime.datetime.now(), url))\n",
    "        return None\n",
    "\n",
    "def getNaverSearch(node, srcText, start, display):\n",
    "    base = \"https://openapi.naver.com/v1/search\"\n",
    "    node = \"/%s.json\" % node\n",
    "    parameters = \"?query=\\\"%s\\\"&start=%s&display=%s\" % (urllib.parse.quote(srcText), start, display)\n",
    "    url = base + node + parameters\n",
    "    responseDecode = getRequestUrl(url)     \n",
    "\n",
    "    if(responseDecode == None):\n",
    "        return None\n",
    "    else:\n",
    "        return json.loads(responseDecode)\n",
    "\n",
    "def getPostData(post, jsonResult, cnt):\n",
    "    title = post['title']\n",
    "    description = post['description']\n",
    "    org_link = post['originallink']\n",
    "    link = post['link']\n",
    "\n",
    "    pDate = datetime.datetime.strptime(post['pubDate'], '%a, %d %b %Y %H:%M:%S %z')\n",
    "    pDate = pDate.strftime('%Y-%m-%d %H:%M:%S')\n",
    "\n",
    "    jsonResult.append({'cnt':cnt, 'title':title, 'description':description,\n",
    "                       'link':org_link, 'pDate':pDate})\n",
    "    return\n",
    "\n",
    "def main():\n",
    "    node = 'news' \n",
    "    srcText = input('검색어를 입력하세요: ')\n",
    "    cnt = 0\n",
    "    jsonResult = []\n",
    "    \n",
    "    jsonResponse = getNaverSearch(node, srcText, 1, 100)\n",
    "    total = jsonResponse['total']\n",
    "    \n",
    "    while((jsonResponse != None) and (jsonResponse['display'] != 0)):\n",
    "        for post in jsonResponse['items']:\n",
    "            cnt+= 1\n",
    "            getPostData(post, jsonResult, cnt)  \n",
    "            \n",
    "        start = jsonResponse['start'] + jsonResponse['display']\n",
    "        jsonResponse = getNaverSearch(node, srcText, start, 100)  \n",
    "        \n",
    "    print('전체 검색 : %d 건' %total)\n",
    "        \n",
    "    with open('%s_naver_%s.json' % (srcText, node), 'w', encoding='utf8') as outfile:\n",
    "        jsonFile = json.dumps(jsonResult, indent=4, sort_keys = True, ensure_ascii = False)\n",
    "            \n",
    "        outfile.write(jsonFile)\n",
    "            \n",
    "    print(\"가져온 데이터 : %d 건\" %(cnt))\n",
    "    print('%s_naver_%s.json SAVED' % (srcText, node))\n",
    "\n",
    "if __name__ == '__main__':\n",
    "    main()                  "
   ]
  }
 ],
 "metadata": {
  "kernelspec": {
   "display_name": "Python 3",
   "language": "python",
   "name": "python3"
  },
  "language_info": {
   "codemirror_mode": {
    "name": "ipython",
    "version": 3
   },
   "file_extension": ".py",
   "mimetype": "text/x-python",
   "name": "python",
   "nbconvert_exporter": "python",
   "pygments_lexer": "ipython3",
   "version": "3.9.6"
  }
 },
 "nbformat": 4,
 "nbformat_minor": 2
}
